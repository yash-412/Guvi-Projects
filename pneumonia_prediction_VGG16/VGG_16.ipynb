{
 "cells": [
  {
   "cell_type": "code",
   "execution_count": 46,
   "metadata": {},
   "outputs": [],
   "source": [
    "from keras.layers import Input, Lambda, Dense, Flatten\n",
    "from keras.models import Model\n",
    "from keras.applications.vgg16 import VGG16\n",
    "from keras.applications.vgg16 import preprocess_input\n",
    "from keras.preprocessing import image\n",
    "from keras.preprocessing.image import ImageDataGenerator\n",
    "from keras.models import Sequential\n",
    "import numpy as np\n",
    "from glob import glob\n",
    "import matplotlib.pyplot as plt\n",
    "import mlflow\n",
    "import mlflow.keras\n",
    "from tensorflow.keras.callbacks import EarlyStopping, ModelCheckpoint"
   ]
  },
  {
   "cell_type": "code",
   "execution_count": 2,
   "metadata": {},
   "outputs": [],
   "source": [
    "IMAGE_SIZE = [224, 224]\n",
    "\n",
    "train_path = 'Datasets/train'\n",
    "valid_path = 'Datasets/test'"
   ]
  },
  {
   "cell_type": "code",
   "execution_count": 3,
   "metadata": {},
   "outputs": [],
   "source": [
    "vgg = VGG16(input_shape=IMAGE_SIZE + [3], weights='imagenet', include_top=False)"
   ]
  },
  {
   "cell_type": "code",
   "execution_count": 4,
   "metadata": {},
   "outputs": [],
   "source": [
    "for layer in vgg.layers:\n",
    "    layer.trainable = False"
   ]
  },
  {
   "cell_type": "code",
   "execution_count": 5,
   "metadata": {},
   "outputs": [],
   "source": [
    "folders = glob('Datasets/train/*')"
   ]
  },
  {
   "cell_type": "code",
   "execution_count": 7,
   "metadata": {},
   "outputs": [],
   "source": [
    "x = Flatten()(vgg.output)"
   ]
  },
  {
   "cell_type": "code",
   "execution_count": 8,
   "metadata": {},
   "outputs": [],
   "source": [
    "prediction = Dense(len(folders), activation='softmax')(x)\n",
    "\n",
    "# create a model object\n",
    "model = Model(inputs=vgg.input, outputs=prediction)"
   ]
  },
  {
   "cell_type": "code",
   "execution_count": 9,
   "metadata": {},
   "outputs": [
    {
     "name": "stdout",
     "output_type": "stream",
     "text": [
      "Model: \"model\"\n",
      "_________________________________________________________________\n",
      " Layer (type)                Output Shape              Param #   \n",
      "=================================================================\n",
      " input_1 (InputLayer)        [(None, 224, 224, 3)]     0         \n",
      "                                                                 \n",
      " block1_conv1 (Conv2D)       (None, 224, 224, 64)      1792      \n",
      "                                                                 \n",
      " block1_conv2 (Conv2D)       (None, 224, 224, 64)      36928     \n",
      "                                                                 \n",
      " block1_pool (MaxPooling2D)  (None, 112, 112, 64)      0         \n",
      "                                                                 \n",
      " block2_conv1 (Conv2D)       (None, 112, 112, 128)     73856     \n",
      "                                                                 \n",
      " block2_conv2 (Conv2D)       (None, 112, 112, 128)     147584    \n",
      "                                                                 \n",
      " block2_pool (MaxPooling2D)  (None, 56, 56, 128)       0         \n",
      "                                                                 \n",
      " block3_conv1 (Conv2D)       (None, 56, 56, 256)       295168    \n",
      "                                                                 \n",
      " block3_conv2 (Conv2D)       (None, 56, 56, 256)       590080    \n",
      "                                                                 \n",
      " block3_conv3 (Conv2D)       (None, 56, 56, 256)       590080    \n",
      "                                                                 \n",
      " block3_pool (MaxPooling2D)  (None, 28, 28, 256)       0         \n",
      "                                                                 \n",
      " block4_conv1 (Conv2D)       (None, 28, 28, 512)       1180160   \n",
      "                                                                 \n",
      " block4_conv2 (Conv2D)       (None, 28, 28, 512)       2359808   \n",
      "                                                                 \n",
      " block4_conv3 (Conv2D)       (None, 28, 28, 512)       2359808   \n",
      "                                                                 \n",
      " block4_pool (MaxPooling2D)  (None, 14, 14, 512)       0         \n",
      "                                                                 \n",
      " block5_conv1 (Conv2D)       (None, 14, 14, 512)       2359808   \n",
      "                                                                 \n",
      " block5_conv2 (Conv2D)       (None, 14, 14, 512)       2359808   \n",
      "                                                                 \n",
      " block5_conv3 (Conv2D)       (None, 14, 14, 512)       2359808   \n",
      "                                                                 \n",
      " block5_pool (MaxPooling2D)  (None, 7, 7, 512)         0         \n",
      "                                                                 \n",
      " flatten (Flatten)           (None, 25088)             0         \n",
      "                                                                 \n",
      " dense (Dense)               (None, 2)                 50178     \n",
      "                                                                 \n",
      "=================================================================\n",
      "Total params: 14764866 (56.32 MB)\n",
      "Trainable params: 50178 (196.01 KB)\n",
      "Non-trainable params: 14714688 (56.13 MB)\n",
      "_________________________________________________________________\n"
     ]
    }
   ],
   "source": [
    "model.summary()"
   ]
  },
  {
   "cell_type": "code",
   "execution_count": 10,
   "metadata": {},
   "outputs": [],
   "source": [
    "model.compile(\n",
    "  loss='categorical_crossentropy',\n",
    "  optimizer='adam',\n",
    "  metrics=['accuracy']\n",
    ")"
   ]
  },
  {
   "cell_type": "code",
   "execution_count": 11,
   "metadata": {},
   "outputs": [],
   "source": [
    "from keras.preprocessing.image import ImageDataGenerator\n",
    "\n",
    "train_datagen = ImageDataGenerator(rescale = 1./255,\n",
    "                                   shear_range = 0.2,\n",
    "                                   zoom_range = 0.2,\n",
    "                                   horizontal_flip = True)\n",
    "\n",
    "test_datagen = ImageDataGenerator(rescale = 1./255)"
   ]
  },
  {
   "cell_type": "code",
   "execution_count": 12,
   "metadata": {},
   "outputs": [
    {
     "name": "stdout",
     "output_type": "stream",
     "text": [
      "Found 5216 images belonging to 2 classes.\n"
     ]
    }
   ],
   "source": [
    "training_set = train_datagen.flow_from_directory('Datasets/train',\n",
    "                                                 target_size = (224, 224),\n",
    "                                                 batch_size = 32,\n",
    "                                                 class_mode = 'categorical')"
   ]
  },
  {
   "cell_type": "code",
   "execution_count": 13,
   "metadata": {},
   "outputs": [
    {
     "name": "stdout",
     "output_type": "stream",
     "text": [
      "Found 624 images belonging to 2 classes.\n"
     ]
    }
   ],
   "source": [
    "test_set = test_datagen.flow_from_directory('Datasets/test',\n",
    "                                            target_size = (224, 224),\n",
    "                                            batch_size = 32,\n",
    "                                            class_mode = 'categorical')"
   ]
  },
  {
   "cell_type": "code",
   "execution_count": 47,
   "metadata": {},
   "outputs": [
    {
     "name": "stderr",
     "output_type": "stream",
     "text": [
      "C:\\Users\\Yash\\AppData\\Local\\Temp\\ipykernel_12504\\1222271275.py:18: UserWarning: `Model.fit_generator` is deprecated and will be removed in a future version. Please use `Model.fit`, which supports generators.\n",
      "  r = model.fit_generator(\n"
     ]
    },
    {
     "name": "stdout",
     "output_type": "stream",
     "text": [
      "Epoch 1/12\n",
      "163/163 [==============================] - ETA: 0s - loss: 0.0862 - accuracy: 0.9686\n",
      "Epoch 1: val_loss improved from inf to 0.49986, saving model to best_vgg16.h5\n",
      "163/163 [==============================] - 836s 5s/step - loss: 0.0862 - accuracy: 0.9686 - val_loss: 0.4999 - val_accuracy: 0.8750\n",
      "Epoch 2/12\n"
     ]
    },
    {
     "name": "stderr",
     "output_type": "stream",
     "text": [
      "c:\\Users\\Yash\\.conda\\envs\\asrmr\\lib\\site-packages\\keras\\src\\engine\\training.py:3000: UserWarning: You are saving your model as an HDF5 file via `model.save()`. This file format is considered legacy. We recommend using instead the native Keras format, e.g. `model.save('my_model.keras')`.\n",
      "  saving_api.save_model(\n"
     ]
    },
    {
     "name": "stdout",
     "output_type": "stream",
     "text": [
      "163/163 [==============================] - ETA: 0s - loss: 0.0621 - accuracy: 0.9770\n",
      "Epoch 2: val_loss improved from 0.49986 to 0.37202, saving model to best_vgg16.h5\n",
      "163/163 [==============================] - 867s 5s/step - loss: 0.0621 - accuracy: 0.9770 - val_loss: 0.3720 - val_accuracy: 0.8990\n",
      "Epoch 3/12\n",
      "163/163 [==============================] - ETA: 0s - loss: 0.0602 - accuracy: 0.9772\n",
      "Epoch 3: val_loss improved from 0.37202 to 0.28426, saving model to best_vgg16.h5\n",
      "163/163 [==============================] - 867s 5s/step - loss: 0.0602 - accuracy: 0.9772 - val_loss: 0.2843 - val_accuracy: 0.9022\n",
      "Epoch 4/12\n",
      "163/163 [==============================] - ETA: 0s - loss: 0.0595 - accuracy: 0.9768\n",
      "Epoch 4: val_loss did not improve from 0.28426\n",
      "163/163 [==============================] - 930s 6s/step - loss: 0.0595 - accuracy: 0.9768 - val_loss: 0.3073 - val_accuracy: 0.9071\n",
      "Epoch 5/12\n",
      "163/163 [==============================] - ETA: 0s - loss: 0.0629 - accuracy: 0.9783\n",
      "Epoch 5: val_loss did not improve from 0.28426\n",
      "163/163 [==============================] - 911s 6s/step - loss: 0.0629 - accuracy: 0.9783 - val_loss: 0.3770 - val_accuracy: 0.9022\n",
      "Epoch 6/12\n",
      "163/163 [==============================] - ETA: 0s - loss: 0.0718 - accuracy: 0.9724Restoring model weights from the end of the best epoch: 3.\n",
      "\n",
      "Epoch 6: val_loss did not improve from 0.28426\n",
      "163/163 [==============================] - 865s 5s/step - loss: 0.0718 - accuracy: 0.9724 - val_loss: 0.3021 - val_accuracy: 0.9247\n",
      "Epoch 6: early stopping\n"
     ]
    }
   ],
   "source": [
    "# Define EarlyStopping callback\n",
    "early_stopping = EarlyStopping(\n",
    "    monitor='val_loss',  # Metric to monitor for improvement\n",
    "    patience=3,           # Number of epochs with no improvement after which training will be stopped\n",
    "    restore_best_weights=True,  # Restore model weights from the epoch with the best value of the monitored metric\n",
    "    verbose=1  # Set to 1 for informative messages during training\n",
    ")\n",
    "\n",
    "# Define ModelCheckpoint callback to save the best model\n",
    "model_checkpoint = ModelCheckpoint(\n",
    "    'best_vgg16.h5',  # Filepath to save the best model\n",
    "    monitor='val_loss',\n",
    "    save_best_only=True,\n",
    "    verbose=1\n",
    ")\n",
    "\n",
    "# Example of using EarlyStopping and ModelCheckpoint in fit_generator\n",
    "r = model.fit_generator(\n",
    "    training_set,\n",
    "    validation_data=test_set,\n",
    "    epochs=12,\n",
    "    steps_per_epoch=len(training_set),\n",
    "    validation_steps=len(test_set),\n",
    "    callbacks=[early_stopping, model_checkpoint],\n",
    "    verbose=1\n",
    ")"
   ]
  },
  {
   "cell_type": "code",
   "execution_count": 16,
   "metadata": {},
   "outputs": [
    {
     "name": "stderr",
     "output_type": "stream",
     "text": [
      "C:\\Users\\Yash\\AppData\\Local\\Temp\\ipykernel_12504\\3149328828.py:4: UserWarning: `Model.fit_generator` is deprecated and will be removed in a future version. Please use `Model.fit`, which supports generators.\n",
      "  r = model.fit_generator(\n"
     ]
    },
    {
     "name": "stdout",
     "output_type": "stream",
     "text": [
      "Epoch 1/5\n",
      "163/163 [==============================] - 661s 4s/step - loss: 0.1465 - accuracy: 0.9434 - val_loss: 0.2651 - val_accuracy: 0.9071\n",
      "Epoch 2/5\n",
      "163/163 [==============================] - 666s 4s/step - loss: 0.1235 - accuracy: 0.9548 - val_loss: 0.2488 - val_accuracy: 0.9119\n",
      "Epoch 3/5\n",
      "163/163 [==============================] - 683s 4s/step - loss: 0.0979 - accuracy: 0.9630 - val_loss: 0.3021 - val_accuracy: 0.9103\n",
      "Epoch 4/5\n",
      "163/163 [==============================] - 822s 5s/step - loss: 0.0873 - accuracy: 0.9705 - val_loss: 0.3330 - val_accuracy: 0.9038\n",
      "Epoch 5/5\n",
      "163/163 [==============================] - 823s 5s/step - loss: 0.0875 - accuracy: 0.9676 - val_loss: 0.2951 - val_accuracy: 0.9199\n"
     ]
    },
    {
     "name": "stderr",
     "output_type": "stream",
     "text": [
      "2024/01/11 08:51:33 WARNING mlflow.tensorflow: You are saving a TensorFlow Core model or Keras model without a signature. Inference with mlflow.pyfunc.spark_udf() will not work unless the model's pyfunc representation accepts pandas DataFrames as inference inputs.\n"
     ]
    },
    {
     "name": "stdout",
     "output_type": "stream",
     "text": [
      "INFO:tensorflow:Assets written to: C:\\Users\\Yash\\AppData\\Local\\Temp\\tmp00xonwu2\\model\\data\\model\\assets\n"
     ]
    },
    {
     "name": "stderr",
     "output_type": "stream",
     "text": [
      "INFO:tensorflow:Assets written to: C:\\Users\\Yash\\AppData\\Local\\Temp\\tmp00xonwu2\\model\\data\\model\\assets\n",
      "c:\\Users\\Yash\\.conda\\envs\\asrmr\\lib\\site-packages\\_distutils_hack\\__init__.py:33: UserWarning: Setuptools is replacing distutils.\n",
      "  warnings.warn(\"Setuptools is replacing distutils.\")\n"
     ]
    }
   ],
   "source": [
    "with mlflow.start_run():\n",
    "\n",
    "    # VGG16 model training\n",
    "    r = model.fit_generator(\n",
    "        training_set,\n",
    "        validation_data=test_set,\n",
    "        epochs=5,\n",
    "        steps_per_epoch=len(training_set),\n",
    "        validation_steps=len(test_set)\n",
    "    )\n",
    "\n",
    "    # Log model parameters\n",
    "    mlflow.log_param(\"epochs\", 5)\n",
    "    mlflow.log_param(\"steps_per_epoch\", len(training_set))\n",
    "    mlflow.log_param(\"validation_steps\", len(test_set))\n",
    "\n",
    "    # Log metrics\n",
    "    mlflow.log_metric(\"training_loss\", r.history['loss'][-1])\n",
    "    mlflow.log_metric(\"validation_loss\", r.history['val_loss'][-1])\n",
    "\n",
    "    # Log the entire model (as a Keras model)\n",
    "    mlflow.keras.log_model(model, \"model\")"
   ]
  },
  {
   "cell_type": "code",
   "execution_count": 22,
   "metadata": {},
   "outputs": [
    {
     "data": {
      "image/png": "[encoded data removed]",
      "text/plain": [
       "<Figure size 640x480 with 1 Axes>"
      ]
     },
     "metadata": {},
     "output_type": "display_data"
    },
    {
     "data": {
      "image/png": "[encoded data removed]",
      "text/plain": [
       "<Figure size 640x480 with 1 Axes>"
      ]
     },
     "metadata": {},
     "output_type": "display_data"
    }
   ],
   "source": [
    "plt.plot(r.history['loss'], label='train loss')\n",
    "plt.plot(r.history['val_loss'], label='val loss')\n",
    "plt.legend()\n",
    "plt.show()\n",
    "\n",
    "# plot the accuracy\n",
    "plt.plot(r.history['accuracy'], label='train acc')\n",
    "plt.plot(r.history['val_accuracy'], label='val acc')\n",
    "plt.legend()\n",
    "plt.show()"
   ]
  },
  {
   "cell_type": "code",
   "execution_count": 18,
   "metadata": {},
   "outputs": [
    {
     "name": "stderr",
     "output_type": "stream",
     "text": [
      "c:\\Users\\Yash\\.conda\\envs\\asrmr\\lib\\site-packages\\keras\\src\\engine\\training.py:3000: UserWarning: You are saving your model as an HDF5 file via `model.save()`. This file format is considered legacy. We recommend using instead the native Keras format, e.g. `model.save('my_model.keras')`.\n",
      "  saving_api.save_model(\n"
     ]
    }
   ],
   "source": [
    "import tensorflow as tf\n",
    "\n",
    "from keras.models import load_model\n",
    "\n",
    "model.save('lung_vgg16.h5')"
   ]
  },
  {
   "cell_type": "code",
   "execution_count": 42,
   "metadata": {},
   "outputs": [
    {
     "name": "stdout",
     "output_type": "stream",
     "text": [
      "Found 624 images belonging to 2 classes.\n"
     ]
    }
   ],
   "source": [
    "validation_set = test_datagen.flow_from_directory('Datasets/test', target_size=(224, 224), batch_size=32, class_mode='categorical')"
   ]
  },
  {
   "cell_type": "code",
   "execution_count": 43,
   "metadata": {},
   "outputs": [
    {
     "ename": "TypeError",
     "evalue": "fit_generator() missing 1 required positional argument: 'generator'",
     "output_type": "error",
     "traceback": [
      "\u001b[1;31m---------------------------------------------------------------------------\u001b[0m",
      "\u001b[1;31mTypeError\u001b[0m                                 Traceback (most recent call last)",
      "\u001b[1;32md:\\VSCodium\\Guvi-Projects\\pneumonia_prediction_VGG16\\VGG_16.ipynb Cell 17\u001b[0m line \u001b[0;36m1\n\u001b[1;32m----> <a href='vscode-notebook-cell:/d%3A/VSCodium/Guvi-Projects/pneumonia_prediction_VGG16/VGG_16.ipynb#X33sZmlsZQ%3D%3D?line=0'>1</a>\u001b[0m r \u001b[39m=\u001b[39m model\u001b[39m.\u001b[39;49mfit_generator(\n\u001b[0;32m      <a href='vscode-notebook-cell:/d%3A/VSCodium/Guvi-Projects/pneumonia_prediction_VGG16/VGG_16.ipynb#X33sZmlsZQ%3D%3D?line=1'>2</a>\u001b[0m     validation_data\u001b[39m=\u001b[39;49mvalidation_set,\n\u001b[0;32m      <a href='vscode-notebook-cell:/d%3A/VSCodium/Guvi-Projects/pneumonia_prediction_VGG16/VGG_16.ipynb#X33sZmlsZQ%3D%3D?line=2'>3</a>\u001b[0m )\n",
      "\u001b[1;31mTypeError\u001b[0m: fit_generator() missing 1 required positional argument: 'generator'"
     ]
    }
   ],
   "source": [
    "    r = model.fit_generator(\n",
    "        training_set,\n",
    "        validation_data=validation_set,\n",
    "        epochs=5,\n",
    "        steps_per_epoch=len(training_set),\n",
    "        validation_steps=len(validation_set)\n",
    "    )"
   ]
  },
  {
   "cell_type": "code",
   "execution_count": 41,
   "metadata": {},
   "outputs": [
    {
     "name": "stdout",
     "output_type": "stream",
     "text": [
      "1/1 [==============================] - 0s 288ms/step\n",
      "[[8.632611e-32 1.000000e+00]]\n",
      "Pneumonia Confirmed\n"
     ]
    }
   ],
   "source": [
    "import streamlit as st\n",
    "from PIL import Image\n",
    "import numpy as np\n",
    "from keras.models import load_model\n",
    "from tensorflow.keras.applications.vgg16 import preprocess_input\n",
    "from tensorflow.keras.preprocessing import image\n",
    "from tensorflow.keras.applications.vgg16 import VGG16, decode_predictions\n",
    "\n",
    "# Load the VGG16 model\n",
    "model = load_model('lung_vgg16.h5')\n",
    "\n",
    "def preprocess_image(img):\n",
    "    # Resize image to the input size expected by VGG16 (224x224 pixels)\n",
    "    img = Image.open(image_path)\n",
    "\n",
    "    # Resize the image to 224x224 pixels\n",
    "    img = img.resize((224, 224))\n",
    "    \n",
    "    # Convert the image to RGB\n",
    "    img = img.convert('RGB')\n",
    "    \n",
    "    # Convert the image to a NumPy array\n",
    "    img_array = image.img_to_array(img)\n",
    "\n",
    "    # Add an extra dimension and preprocess the image\n",
    "    img_array = np.expand_dims(img_array, axis=0)\n",
    "    img_array = preprocess_input(img_array)\n",
    "\n",
    "    return img_array\n",
    "\n",
    "def output(processed_image, model):\n",
    "    # Perform inference\n",
    "    predictions = model.predict(processed_image)\n",
    "    \n",
    "    return predictions\n",
    "\n",
    "\n",
    "# Upload image through Streamlit\n",
    "image_path = r'chest_xray/chest_xray/val/PNEUMONIA/person1954_bacteria_4886.jpeg'\n",
    "img = Image.open(image_path)\n",
    "\n",
    "# Display the uploaded image\n",
    "# img.show()\n",
    "\n",
    "# Process the image\n",
    "processed_image = preprocess_image(img)\n",
    "        \n",
    "# Model inference\n",
    "model_output = output(processed_image, model)\n",
    "\n",
    "# Display model output\n",
    "print(model_output)\n",
    "\n",
    "predicted_probabilities = model_output[0]\n",
    "\n",
    "# Determine the predicted class based on the highest probability\n",
    "predicted_class = \"Pneumonia Confirmed\" if predicted_probabilities[1] > predicted_probabilities[0] else \"Normal patient\"\n",
    "\n",
    "# Display the final prediction\n",
    "print(predicted_class)\n",
    "\n",
    "# r\"chest_xray/chest_xray/val/NORMAL/NORMAL2-IM-1442-0001.jpeg\""
   ]
  }
 ],
 "metadata": {
  "kernelspec": {
   "display_name": "asrmr",
   "language": "python",
   "name": "python3"
  },
  "language_info": {
   "codemirror_mode": {
    "name": "ipython",
    "version": 3
   },
   "file_extension": ".py",
   "mimetype": "text/x-python",
   "name": "python",
   "nbconvert_exporter": "python",
   "pygments_lexer": "ipython3",
   "version": "3.8.18"
  }
 },
 "nbformat": 4,
 "nbformat_minor": 2
}
